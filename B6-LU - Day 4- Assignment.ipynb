{
 "cells": [
  {
   "cell_type": "code",
   "execution_count": 57,
   "metadata": {},
   "outputs": [
    {
     "name": "stdout",
     "output_type": "stream",
     "text": [
      "Enter the substring: e\n",
      "index of e is 6\n",
      "index of e is 15\n",
      "index of e is 18\n",
      "index of e is 22\n",
      "index of e is 26\n",
      "index of e is 30\n",
      "index of e is 47\n"
     ]
    }
   ],
   "source": [
    "#Find all the occurance of substring in the given string\n",
    "findString = input(\"Enter the substring: \")\n",
    "str1 = \"what we think we become; we are Python programmer\"\n",
    "\n",
    "for i in range(0,len(str1)):\n",
    "    if str1[i] == findString:\n",
    "        print(\"index of %s is %s\" %(findString,str1.find(findString,i,len(str1))))\n",
    "\n",
    "    "
   ]
  },
  {
   "cell_type": "code",
   "execution_count": 99,
   "metadata": {
    "scrolled": true
   },
   "outputs": [
    {
     "name": "stdout",
     "output_type": "stream",
     "text": [
      "Enter the String: Python@@\n",
      "False\n"
     ]
    }
   ],
   "source": [
    "import re\n",
    "str1 = input(\"Enter the String: \")\n",
    "upperStr1 = re.findall(\"[A-Z]\",str1)\n",
    "y = re.findall(\"[0-9]\",str1)\n",
    "z = re.findall(\"['#','@','$','%','^','&']\",str1)\n",
    "lowerStr1 = re.findall(\"[a-z]\",str1)\n",
    "\n",
    "if len(upperStr1)!=0 and len(y)==0 and len(z)==0:\n",
    "    print(\"Is String upper:\", str1.isupper())\n",
    "elif len(lowerStr1)!=0 and len(y)==0 and len(z)==0:\n",
    "    print(\"Is String lower:\", str1.islower())\n",
    "else:\n",
    "    print(False)\n",
    "\n",
    "    \n",
    "\n"
   ]
  },
  {
   "cell_type": "markdown",
   "metadata": {},
   "source": [
    "\n"
   ]
  }
 ],
 "metadata": {
  "kernelspec": {
   "display_name": "Python 3",
   "language": "python",
   "name": "python3"
  },
  "language_info": {
   "codemirror_mode": {
    "name": "ipython",
    "version": 3
   },
   "file_extension": ".py",
   "mimetype": "text/x-python",
   "name": "python",
   "nbconvert_exporter": "python",
   "pygments_lexer": "ipython3",
   "version": "3.7.6"
  }
 },
 "nbformat": 4,
 "nbformat_minor": 4
}
