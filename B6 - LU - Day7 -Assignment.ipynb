{
 "cells": [
  {
   "cell_type": "markdown",
   "metadata": {},
   "source": [
    "# Ass- 1 - Use the dictionary\n",
    "port1 = {21:\"FTP\",22:\"SSH\",23:\"Telnet\",80:\"http\"}\n",
    "and make a new dictionary in which keys become values abd values become values"
   ]
  },
  {
   "cell_type": "code",
   "execution_count": 2,
   "metadata": {},
   "outputs": [
    {
     "name": "stdout",
     "output_type": "stream",
     "text": [
      "{'FTP': 21, 'SSH': 22, 'Telnet': 23, 'http': 80}\n"
     ]
    }
   ],
   "source": [
    "port1 = {21:\"FTP\",22:\"SSH\",23:\"Telnet\",80:\"http\"}\n",
    "port2 = dict((value,key) for key,value in port1.items())\n",
    "print(port2)"
   ]
  },
  {
   "cell_type": "markdown",
   "metadata": {},
   "source": [
    "# Ass -2 -  Take a list of tuples as shown below\n",
    "[(1,2),(3,4),(5,6)]\n",
    "o/p : [3,7,11]\n"
   ]
  },
  {
   "cell_type": "code",
   "execution_count": 3,
   "metadata": {},
   "outputs": [
    {
     "name": "stdout",
     "output_type": "stream",
     "text": [
      "[3, 7, 11]\n"
     ]
    }
   ],
   "source": [
    "lst1 = [(1,2),(3,4),(5,6)]\n",
    "lst2 =[]\n",
    "for i in lst1:\n",
    "  sum =0\n",
    "  for j in range(len(i)):\n",
    "   sum = i[j] + sum\n",
    "  lst2.append(sum)\n",
    "print(lst2)"
   ]
  },
  {
   "cell_type": "markdown",
   "metadata": {},
   "source": [
    "# Ass 3- Take a list as shown below\n",
    "[(1,2,3),[1,2],['a','hit','less']]\n",
    "The list contains tuple and listes . Make the elements of inner lists and tuples to outer list"
   ]
  },
  {
   "cell_type": "code",
   "execution_count": 4,
   "metadata": {},
   "outputs": [
    {
     "name": "stdout",
     "output_type": "stream",
     "text": [
      "[1, 2, 3, 1, 2, 'a', 'hit', 'less']\n"
     ]
    }
   ],
   "source": [
    "new_list = [(1,2,3),[1,2],['a','hit','less']]\n",
    "new_list2 =[]\n",
    "for i in new_list:\n",
    "  new_list2 .extend(list(i))\n",
    "print(new_list2)"
   ]
  },
  {
   "cell_type": "code",
   "execution_count": null,
   "metadata": {},
   "outputs": [],
   "source": []
  }
 ],
 "metadata": {
  "kernelspec": {
   "display_name": "Python 3",
   "language": "python",
   "name": "python3"
  },
  "language_info": {
   "codemirror_mode": {
    "name": "ipython",
    "version": 3
   },
   "file_extension": ".py",
   "mimetype": "text/x-python",
   "name": "python",
   "nbconvert_exporter": "python",
   "pygments_lexer": "ipython3",
   "version": "3.7.6"
  }
 },
 "nbformat": 4,
 "nbformat_minor": 4
}
